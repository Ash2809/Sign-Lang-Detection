{
 "cells": [
  {
   "cell_type": "code",
   "execution_count": 37,
   "id": "f2f0f037-23cc-4252-adfd-228f62b786c8",
   "metadata": {},
   "outputs": [],
   "source": [
    "import tensorflow as tf\n",
    "from tensorflow import keras\n",
    "from keras.layers import Dense,MaxPooling2D,Flatten,Conv2D,Dropout,BatchNormalization\n",
    "from keras.models import save_model,Sequential\n",
    "from tensorflow.keras.preprocessing.image import ImageDataGenerator, array_to_img\n",
    "import pandas as pd\n",
    "import os\n",
    "import cv2\n",
    "import matplotlib.pyplot as plt\n",
    "import seaborn as sns\n",
    "import numpy as np"
   ]
  },
  {
   "cell_type": "code",
   "execution_count": 2,
   "id": "6a101fe1-791c-45f8-9ca4-4811637b1ee7",
   "metadata": {},
   "outputs": [],
   "source": [
    "val_file = r\"C:\\Users\\aashutosh kumar\\Music\\sign_mnist_test\\sign_mnist_test.csv\"\n",
    "train_file = r\"C:\\Users\\aashutosh kumar\\Music\\sign_mnist_train\\sign_mnist_train.csv\""
   ]
  },
  {
   "cell_type": "code",
   "execution_count": 3,
   "id": "59634d78-70bc-44a0-ba36-22cda2ca7ab2",
   "metadata": {},
   "outputs": [
    {
     "data": {
      "text/plain": [
       "(27455, 785)"
      ]
     },
     "execution_count": 3,
     "metadata": {},
     "output_type": "execute_result"
    }
   ],
   "source": [
    "val_data = pd.read_csv(val_file)\n",
    "val_data.shape\n",
    "train_data = pd.read_csv(train_file)\n",
    "train_data.shape"
   ]
  },
  {
   "cell_type": "code",
   "execution_count": 4,
   "id": "db93f257-dd6c-4af3-9c2f-b50494155b35",
   "metadata": {},
   "outputs": [
    {
     "data": {
      "text/html": [
       "<div>\n",
       "<style scoped>\n",
       "    .dataframe tbody tr th:only-of-type {\n",
       "        vertical-align: middle;\n",
       "    }\n",
       "\n",
       "    .dataframe tbody tr th {\n",
       "        vertical-align: top;\n",
       "    }\n",
       "\n",
       "    .dataframe thead th {\n",
       "        text-align: right;\n",
       "    }\n",
       "</style>\n",
       "<table border=\"1\" class=\"dataframe\">\n",
       "  <thead>\n",
       "    <tr style=\"text-align: right;\">\n",
       "      <th></th>\n",
       "      <th>label</th>\n",
       "      <th>pixel1</th>\n",
       "      <th>pixel2</th>\n",
       "      <th>pixel3</th>\n",
       "      <th>pixel4</th>\n",
       "      <th>pixel5</th>\n",
       "      <th>pixel6</th>\n",
       "      <th>pixel7</th>\n",
       "      <th>pixel8</th>\n",
       "      <th>pixel9</th>\n",
       "      <th>...</th>\n",
       "      <th>pixel775</th>\n",
       "      <th>pixel776</th>\n",
       "      <th>pixel777</th>\n",
       "      <th>pixel778</th>\n",
       "      <th>pixel779</th>\n",
       "      <th>pixel780</th>\n",
       "      <th>pixel781</th>\n",
       "      <th>pixel782</th>\n",
       "      <th>pixel783</th>\n",
       "      <th>pixel784</th>\n",
       "    </tr>\n",
       "  </thead>\n",
       "  <tbody>\n",
       "    <tr>\n",
       "      <th>0</th>\n",
       "      <td>3</td>\n",
       "      <td>107</td>\n",
       "      <td>118</td>\n",
       "      <td>127</td>\n",
       "      <td>134</td>\n",
       "      <td>139</td>\n",
       "      <td>143</td>\n",
       "      <td>146</td>\n",
       "      <td>150</td>\n",
       "      <td>153</td>\n",
       "      <td>...</td>\n",
       "      <td>207</td>\n",
       "      <td>207</td>\n",
       "      <td>207</td>\n",
       "      <td>207</td>\n",
       "      <td>206</td>\n",
       "      <td>206</td>\n",
       "      <td>206</td>\n",
       "      <td>204</td>\n",
       "      <td>203</td>\n",
       "      <td>202</td>\n",
       "    </tr>\n",
       "    <tr>\n",
       "      <th>1</th>\n",
       "      <td>6</td>\n",
       "      <td>155</td>\n",
       "      <td>157</td>\n",
       "      <td>156</td>\n",
       "      <td>156</td>\n",
       "      <td>156</td>\n",
       "      <td>157</td>\n",
       "      <td>156</td>\n",
       "      <td>158</td>\n",
       "      <td>158</td>\n",
       "      <td>...</td>\n",
       "      <td>69</td>\n",
       "      <td>149</td>\n",
       "      <td>128</td>\n",
       "      <td>87</td>\n",
       "      <td>94</td>\n",
       "      <td>163</td>\n",
       "      <td>175</td>\n",
       "      <td>103</td>\n",
       "      <td>135</td>\n",
       "      <td>149</td>\n",
       "    </tr>\n",
       "    <tr>\n",
       "      <th>2</th>\n",
       "      <td>2</td>\n",
       "      <td>187</td>\n",
       "      <td>188</td>\n",
       "      <td>188</td>\n",
       "      <td>187</td>\n",
       "      <td>187</td>\n",
       "      <td>186</td>\n",
       "      <td>187</td>\n",
       "      <td>188</td>\n",
       "      <td>187</td>\n",
       "      <td>...</td>\n",
       "      <td>202</td>\n",
       "      <td>201</td>\n",
       "      <td>200</td>\n",
       "      <td>199</td>\n",
       "      <td>198</td>\n",
       "      <td>199</td>\n",
       "      <td>198</td>\n",
       "      <td>195</td>\n",
       "      <td>194</td>\n",
       "      <td>195</td>\n",
       "    </tr>\n",
       "    <tr>\n",
       "      <th>3</th>\n",
       "      <td>2</td>\n",
       "      <td>211</td>\n",
       "      <td>211</td>\n",
       "      <td>212</td>\n",
       "      <td>212</td>\n",
       "      <td>211</td>\n",
       "      <td>210</td>\n",
       "      <td>211</td>\n",
       "      <td>210</td>\n",
       "      <td>210</td>\n",
       "      <td>...</td>\n",
       "      <td>235</td>\n",
       "      <td>234</td>\n",
       "      <td>233</td>\n",
       "      <td>231</td>\n",
       "      <td>230</td>\n",
       "      <td>226</td>\n",
       "      <td>225</td>\n",
       "      <td>222</td>\n",
       "      <td>229</td>\n",
       "      <td>163</td>\n",
       "    </tr>\n",
       "  </tbody>\n",
       "</table>\n",
       "<p>4 rows × 785 columns</p>\n",
       "</div>"
      ],
      "text/plain": [
       "   label  pixel1  pixel2  pixel3  pixel4  pixel5  pixel6  pixel7  pixel8  \\\n",
       "0      3     107     118     127     134     139     143     146     150   \n",
       "1      6     155     157     156     156     156     157     156     158   \n",
       "2      2     187     188     188     187     187     186     187     188   \n",
       "3      2     211     211     212     212     211     210     211     210   \n",
       "\n",
       "   pixel9  ...  pixel775  pixel776  pixel777  pixel778  pixel779  pixel780  \\\n",
       "0     153  ...       207       207       207       207       206       206   \n",
       "1     158  ...        69       149       128        87        94       163   \n",
       "2     187  ...       202       201       200       199       198       199   \n",
       "3     210  ...       235       234       233       231       230       226   \n",
       "\n",
       "   pixel781  pixel782  pixel783  pixel784  \n",
       "0       206       204       203       202  \n",
       "1       175       103       135       149  \n",
       "2       198       195       194       195  \n",
       "3       225       222       229       163  \n",
       "\n",
       "[4 rows x 785 columns]"
      ]
     },
     "execution_count": 4,
     "metadata": {},
     "output_type": "execute_result"
    }
   ],
   "source": [
    "train_data.head(4)"
   ]
  },
  {
   "cell_type": "code",
   "execution_count": 5,
   "id": "1a9d0fc7-42e4-47f4-9fba-f0f0637b2387",
   "metadata": {},
   "outputs": [],
   "source": [
    "train_labels = train_data.iloc[:,0].values\n",
    "train_images = train_data.iloc[:,1:].values\n",
    "\n",
    "val_labels = val_data.iloc[:,0].values\n",
    "val_images = val_data.iloc[:,1:].values"
   ]
  },
  {
   "cell_type": "code",
   "execution_count": 6,
   "id": "cc4cfc72-2bcc-465e-9d80-bfe31118cb7b",
   "metadata": {},
   "outputs": [
    {
     "data": {
      "image/png": "[encoded data removed]",
      "text/plain": [
       "<Figure size 640x480 with 1 Axes>"
      ]
     },
     "metadata": {},
     "output_type": "display_data"
    }
   ],
   "source": [
    "def row_to_image(row):\n",
    "    return row.reshape(28, 28)\n",
    "\n",
    "sample_image = row_to_image(train_images[0])\n",
    "plt.imshow(sample_image,cmap=\"gray\")\n",
    "plt.title(f\"Label: {train_labels[0]}\")\n",
    "plt.show()"
   ]
  },
  {
   "cell_type": "code",
   "execution_count": 7,
   "id": "f0faf470-75f8-4b04-9fad-b868f9baa124",
   "metadata": {},
   "outputs": [
    {
     "data": {
      "image/png": "[encoded data removed]",
      "text/plain": [
       "<Figure size 640x480 with 1 Axes>"
      ]
     },
     "metadata": {},
     "output_type": "display_data"
    }
   ],
   "source": [
    "def row_to_image(row):\n",
    "    return row.reshape(28, 28)\n",
    "\n",
    "sample_image = row_to_image(val_images[0])\n",
    "plt.imshow(sample_image,cmap=\"gray\")\n",
    "plt.title(f\"Label: {val_labels[0]}\")\n",
    "plt.show()"
   ]
  },
  {
   "cell_type": "code",
   "execution_count": 8,
   "id": "7fa59e39-20da-40c1-8a3b-db5051e73936",
   "metadata": {},
   "outputs": [],
   "source": [
    "num_train_images = len(train_images)\n",
    "num_val_images = len(val_images)"
   ]
  },
  {
   "cell_type": "code",
   "execution_count": 9,
   "id": "2118d6a1-cb1e-4762-b44d-9a6e3aa529fc",
   "metadata": {},
   "outputs": [],
   "source": [
    "train_images = train_images.reshape((num_train_images,28,28,1)).astype(\"float32\")/255.0\n",
    "val_images = val_images.reshape((num_val_images,28,28,1)).astype(\"float32\")/255.0"
   ]
  },
  {
   "cell_type": "code",
   "execution_count": 10,
   "id": "b1caeef1-c4fe-47fc-b98c-d88635429b39",
   "metadata": {},
   "outputs": [
    {
     "name": "stdout",
     "output_type": "stream",
     "text": [
      "(27455, 28, 28, 1)\n",
      "(7172, 28, 28, 1)\n"
     ]
    }
   ],
   "source": [
    "print(train_images.shape)\n",
    "print(val_images.shape)"
   ]
  },
  {
   "cell_type": "code",
   "execution_count": 11,
   "id": "70136860-3d95-4384-9acf-28136904d345",
   "metadata": {},
   "outputs": [],
   "source": [
    "datagen = ImageDataGenerator(\n",
    "    rotation_range = 10,\n",
    "    width_shift_range = 0.1,\n",
    "    height_shift_range = 0.1,\n",
    "    zoom_range = 0.1,\n",
    "    horizontal_flip = True\n",
    ")\n",
    "\n",
    "train_generator = datagen.flow(train_images, train_labels, batch_size = 32)\n",
    "validation_generator = datagen.flow(val_images, val_labels, batch_size = 32)"
   ]
  },
  {
   "cell_type": "code",
   "execution_count": 13,
   "id": "af597bb9-5b89-44b6-9e1b-45a173f06802",
   "metadata": {},
   "outputs": [
    {
     "data": {
      "image/png": "[encoded data removed]",
      "text/plain": [
       "<Figure size 640x480 with 5 Axes>"
      ]
     },
     "metadata": {},
     "output_type": "display_data"
    }
   ],
   "source": [
    "x_batch, y_batch = train_generator.next()\n",
    "for i in range(0, 5):\n",
    "    plt.subplot(1, 5, i+1)\n",
    "    plt.imshow(x_batch[i].reshape(28,28), cmap='gray')\n",
    "    plt.title(f\"Label: {y_batch[i]}\")\n",
    "    plt.axis('off')\n",
    "plt.show()"
   ]
  },
  {
   "cell_type": "code",
   "execution_count": 25,
   "id": "6c1fe6a6-835f-4d80-90de-0531c9db7636",
   "metadata": {},
   "outputs": [],
   "source": [
    "model = Sequential()\n",
    "\n",
    "model.add(Conv2D(32, (3, 3), activation='relu', input_shape=(28, 28, 1)))\n",
    "model.add(MaxPooling2D(2, 2))\n",
    "\n",
    "model.add(Conv2D(64, (3, 3), activation='relu'))\n",
    "model.add(MaxPooling2D(2, 2))\n",
    "\n",
    "model.add(Conv2D(128, (3, 3), activation='relu'))\n",
    "model.add(MaxPooling2D(2, 2))\n",
    "\n",
    "model.add(Flatten())\n",
    "\n",
    "model.add(Dense(1024,activation = \"relu\"))\n",
    "model.add(Dropout(0.2))\n",
    "\n",
    "model.add(Dense(512,activation = \"relu\"))\n",
    "model.add(Dense(26,activation = \"softmax\"))\n",
    "\n",
    "model.compile(optimizer='adam',loss='sparse_categorical_crossentropy',metrics=['accuracy'])"
   ]
  },
  {
   "cell_type": "code",
   "execution_count": 27,
   "id": "5f310ca7-01a4-420c-a2e4-db40b009a868",
   "metadata": {},
   "outputs": [
    {
     "name": "stdout",
     "output_type": "stream",
     "text": [
      "Model: \"sequential_3\"\n",
      "_________________________________________________________________\n",
      " Layer (type)                Output Shape              Param #   \n",
      "=================================================================\n",
      " conv2d_7 (Conv2D)           (None, 26, 26, 32)        320       \n",
      "                                                                 \n",
      " max_pooling2d_6 (MaxPooling  (None, 13, 13, 32)       0         \n",
      " 2D)                                                             \n",
      "                                                                 \n",
      " conv2d_8 (Conv2D)           (None, 11, 11, 64)        18496     \n",
      "                                                                 \n",
      " max_pooling2d_7 (MaxPooling  (None, 5, 5, 64)         0         \n",
      " 2D)                                                             \n",
      "                                                                 \n",
      " conv2d_9 (Conv2D)           (None, 3, 3, 128)         73856     \n",
      "                                                                 \n",
      " max_pooling2d_8 (MaxPooling  (None, 1, 1, 128)        0         \n",
      " 2D)                                                             \n",
      "                                                                 \n",
      " flatten_1 (Flatten)         (None, 128)               0         \n",
      "                                                                 \n",
      " dense_3 (Dense)             (None, 1024)              132096    \n",
      "                                                                 \n",
      " dropout_1 (Dropout)         (None, 1024)              0         \n",
      "                                                                 \n",
      " dense_4 (Dense)             (None, 512)               524800    \n",
      "                                                                 \n",
      " dense_5 (Dense)             (None, 26)                13338     \n",
      "                                                                 \n",
      "=================================================================\n",
      "Total params: 762,906\n",
      "Trainable params: 762,906\n",
      "Non-trainable params: 0\n",
      "_________________________________________________________________\n"
     ]
    }
   ],
   "source": [
    "model.summary()"
   ]
  },
  {
   "cell_type": "code",
   "execution_count": 28,
   "id": "b029c9bd-5366-4cba-86d7-aab3d1d50b29",
   "metadata": {},
   "outputs": [
    {
     "name": "stdout",
     "output_type": "stream",
     "text": [
      "Epoch 1/15\n",
      "858/858 [==============================] - 25s 19ms/step - loss: 2.0049 - accuracy: 0.3382 - val_loss: 1.1801 - val_accuracy: 0.5849\n",
      "Epoch 2/15\n",
      "858/858 [==============================] - 16s 19ms/step - loss: 0.7939 - accuracy: 0.7189 - val_loss: 0.7094 - val_accuracy: 0.7437\n",
      "Epoch 3/15\n",
      "858/858 [==============================] - 16s 19ms/step - loss: 0.4601 - accuracy: 0.8391 - val_loss: 0.5140 - val_accuracy: 0.8272\n",
      "Epoch 4/15\n",
      "858/858 [==============================] - 16s 19ms/step - loss: 0.3174 - accuracy: 0.8877 - val_loss: 0.3427 - val_accuracy: 0.8811\n",
      "Epoch 5/15\n",
      "858/858 [==============================] - 16s 18ms/step - loss: 0.2443 - accuracy: 0.9160 - val_loss: 0.3703 - val_accuracy: 0.8728\n",
      "Epoch 6/15\n",
      "858/858 [==============================] - 16s 19ms/step - loss: 0.2112 - accuracy: 0.9279 - val_loss: 0.2529 - val_accuracy: 0.9159\n",
      "Epoch 7/15\n",
      "858/858 [==============================] - 16s 18ms/step - loss: 0.1712 - accuracy: 0.9407 - val_loss: 0.2656 - val_accuracy: 0.9110\n",
      "Epoch 8/15\n",
      "858/858 [==============================] - 16s 19ms/step - loss: 0.1588 - accuracy: 0.9446 - val_loss: 0.2512 - val_accuracy: 0.9201\n",
      "Epoch 9/15\n",
      "858/858 [==============================] - 16s 19ms/step - loss: 0.1474 - accuracy: 0.9516 - val_loss: 0.2237 - val_accuracy: 0.9268\n",
      "Epoch 10/15\n",
      "858/858 [==============================] - 16s 19ms/step - loss: 0.1287 - accuracy: 0.9568 - val_loss: 0.2405 - val_accuracy: 0.9293\n",
      "Epoch 11/15\n",
      "858/858 [==============================] - 16s 19ms/step - loss: 0.1235 - accuracy: 0.9577 - val_loss: 0.2420 - val_accuracy: 0.9233\n",
      "Epoch 12/15\n",
      "858/858 [==============================] - 16s 19ms/step - loss: 0.1070 - accuracy: 0.9639 - val_loss: 0.2292 - val_accuracy: 0.9247\n",
      "Epoch 13/15\n",
      "858/858 [==============================] - 16s 19ms/step - loss: 0.1058 - accuracy: 0.9651 - val_loss: 0.1927 - val_accuracy: 0.9416\n",
      "Epoch 14/15\n",
      "858/858 [==============================] - 16s 19ms/step - loss: 0.0971 - accuracy: 0.9686 - val_loss: 0.2055 - val_accuracy: 0.9395\n",
      "Epoch 15/15\n",
      "858/858 [==============================] - 17s 20ms/step - loss: 0.0977 - accuracy: 0.9687 - val_loss: 0.2387 - val_accuracy: 0.9248\n"
     ]
    }
   ],
   "source": [
    "history = model.fit(train_generator,validation_data = validation_generator,epochs = 15)"
   ]
  },
  {
   "cell_type": "code",
   "execution_count": 31,
   "id": "a129ff25-d6b9-45e6-8bae-076cab42ca01",
   "metadata": {},
   "outputs": [
    {
     "data": {
      "text/plain": [
       "<matplotlib.legend.Legend at 0x1dbf0ea59d0>"
      ]
     },
     "execution_count": 31,
     "metadata": {},
     "output_type": "execute_result"
    },
    {
     "data": {
      "image/png": "[encoded data removed]",
      "text/plain": [
       "<Figure size 640x480 with 1 Axes>"
      ]
     },
     "metadata": {},
     "output_type": "display_data"
    }
   ],
   "source": [
    "sns.set_style(\"darkgrid\")\n",
    "plt.plot(history.history[\"accuracy\"],color = \"limegreen\")\n",
    "plt.plot(history.history[\"val_accuracy\"],color = \"orange\")\n",
    "plt.legend([\"accuracy\",\"val_accuracy\"])"
   ]
  },
  {
   "cell_type": "code",
   "execution_count": 32,
   "id": "5b59ccb7-76d2-4052-9251-2cef0d20ec63",
   "metadata": {},
   "outputs": [
    {
     "data": {
      "text/plain": [
       "<matplotlib.legend.Legend at 0x1dbf3a82070>"
      ]
     },
     "execution_count": 32,
     "metadata": {},
     "output_type": "execute_result"
    },
    {
     "data": {
      "image/png": "[encoded data removed]",
      "text/plain": [
       "<Figure size 640x480 with 1 Axes>"
      ]
     },
     "metadata": {},
     "output_type": "display_data"
    }
   ],
   "source": [
    "sns.set_style(\"darkgrid\")\n",
    "plt.plot(history.history[\"loss\"],color = \"royalblue\")\n",
    "plt.plot(history.history[\"val_loss\"],color = \"red\")\n",
    "plt.legend([\"loss\",\"val_loss\"])"
   ]
  },
  {
   "cell_type": "code",
   "execution_count": 33,
   "id": "f3885e5c-2612-455d-b475-63e4d2fa20e9",
   "metadata": {},
   "outputs": [],
   "source": [
    "model.save(\"Sign_Lang.h5\")"
   ]
  },
  {
   "cell_type": "code",
   "execution_count": 50,
   "id": "d612aaf5-9a6d-4c95-8389-b2a1d5d07b85",
   "metadata": {},
   "outputs": [],
   "source": [
    "classes = {\n",
    "    0: \"A\", 1: \"B\", 2: \"C\", 3: \"D\", 4: \"E\", 5: \"F\",\n",
    "    6: \"G\", 7: \"H\", 8: \"I\", 9: \"J\", 10: \"K\", 11: \"L\",\n",
    "    12: \"M\", 13: \"N\", 14: \"O\", 15: \"P\", 16: \"Q\", 17: \"R\",\n",
    "    18: \"S\", 19: \"T\", 20: \"U\", 21: \"V\", 22: \"W\", 23: \"X\",\n",
    "    24: \"Y\", 25: \"Z\"\n",
    "}"
   ]
  },
  {
   "cell_type": "code",
   "execution_count": 54,
   "id": "24d88931-2343-44b2-8eab-2ebe9c2588dd",
   "metadata": {},
   "outputs": [],
   "source": [
    "def prediction(path):\n",
    "    img = cv2.imread(path)\n",
    "    img  = cv2.resize(img,(28,28))\n",
    "    img = cv2.cvtColor(img,cv2.COLOR_BGR2GRAY)\n",
    "    plt.imshow(img, cmap='gray')\n",
    "    plt.axis('off')\n",
    "    plt.show()\n",
    "    img_input = img.reshape(1, 28, 28, 1)\n",
    "    result = model.predict(img_input)\n",
    "    predicted_class = np.argmax(result, axis=-1)[0]\n",
    "    print(\"The predicted Letter is: \",classes[predicted_class])"
   ]
  },
  {
   "cell_type": "code",
   "execution_count": 55,
   "id": "4f42f46a-38db-4855-923d-cd5c21d09ba7",
   "metadata": {},
   "outputs": [
    {
     "data": {
      "image/png": "[encoded data removed]",
      "text/plain": [
       "<Figure size 640x480 with 1 Axes>"
      ]
     },
     "metadata": {},
     "output_type": "display_data"
    },
    {
     "name": "stdout",
     "output_type": "stream",
     "text": [
      "1/1 [==============================] - 0s 17ms/step\n",
      "The predicted Letter is:  L\n"
     ]
    }
   ],
   "source": [
    "prediction(r\"C:\\Users\\aashutosh kumar\\Downloads\\L.jpg\")"
   ]
  },
  {
   "cell_type": "code",
   "execution_count": 56,
   "id": "d189538e-4023-41ad-8fb5-d2fc8122f75b",
   "metadata": {},
   "outputs": [
    {
     "data": {
      "image/png": "[encoded data removed]",
      "text/plain": [
       "<Figure size 640x480 with 1 Axes>"
      ]
     },
     "metadata": {},
     "output_type": "display_data"
    },
    {
     "name": "stdout",
     "output_type": "stream",
     "text": [
      "1/1 [==============================] - 0s 15ms/step\n",
      "The predicted Letter is:  K\n",
      "None\n"
     ]
    }
   ],
   "source": [
    "result = prediction(r\"C:\\Users\\aashutosh kumar\\Downloads\\A.jpeg\")\n",
    "print(result)"
   ]
  },
  {
   "cell_type": "code",
   "execution_count": null,
   "id": "2637f0a0-2465-415b-94b4-9d29a9cadd13",
   "metadata": {},
   "outputs": [],
   "source": []
  }
 ],
 "metadata": {
  "kernelspec": {
   "display_name": "Python 3 (ipykernel)",
   "language": "python",
   "name": "python3"
  },
  "language_info": {
   "codemirror_mode": {
    "name": "ipython",
    "version": 3
   },
   "file_extension": ".py",
   "mimetype": "text/x-python",
   "name": "python",
   "nbconvert_exporter": "python",
   "pygments_lexer": "ipython3",
   "version": "3.11.9"
  }
 },
 "nbformat": 4,
 "nbformat_minor": 5
}
